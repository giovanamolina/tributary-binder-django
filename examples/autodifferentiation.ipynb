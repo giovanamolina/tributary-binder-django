{
 "cells": [
  {
   "cell_type": "code",
   "execution_count": null,
   "metadata": {},
   "outputs": [],
   "source": [
    "# Lazy\n",
    "import tributary.lazy as tl\n",
    "\n",
    "\n",
    "# f = 3x^2 + 2x\n",
    "# f' = 6x + 2\n",
    "options = {'use_dual': True}\n",
    "x1 = tl.Node(value=(5,1), **options)\n",
    "x2 = tl.Node(value=(6,1), **options)\n",
    "x3 = tl.Node(value=(7,1), **options)\n",
    "\n",
    "out1 = tl.Add(tl.Mult(tl.Pow(x1, 2), (3,0)), tl.Mult(x1, (2,0)))\n",
    "out2 = tl.Add(tl.Mult(tl.Pow(x2, 2), (3,0)), tl.Mult(x2, (2,0)))\n",
    "out3 = tl.Add(tl.Mult(tl.Pow(x3, 2), (3,0)), tl.Mult(x3, (2,0)))\n",
    "\n",
    "assert [out1()[1], out2()[1], out3()[1]] == [6*x+2 for x in [5, 6, 7]]\n"
   ]
  },
  {
   "cell_type": "code",
   "execution_count": null,
   "metadata": {},
   "outputs": [],
   "source": [
    "# Streaming\n",
    "import tributary.streaming as ts\n",
    "import math\n",
    "\n",
    "# f = sin(x) + x^2\n",
    "# f' = cos(x) + 2x\n",
    "options = {'use_dual': True}\n",
    "\n",
    "rng = range(-10,11)\n",
    "def foo():\n",
    "    for _ in rng:\n",
    "        yield(_,1)\n",
    "\n",
    "x = ts.Timer(foo, count=len(rng), **options)\n",
    "out = ts.Add(ts.Sin(x), ts.Pow(x,2))\n",
    "result = ts.run(out)\n",
    "assert [x[1] for x in result] == [math.cos(x) + 2*x for x in rng]"
   ]
  }
 ],
 "metadata": {
  "kernelspec": {
   "display_name": "Python 3",
   "language": "python",
   "name": "python3"
  },
  "language_info": {
   "codemirror_mode": {
    "name": "ipython",
    "version": 3
   },
   "file_extension": ".py",
   "mimetype": "text/x-python",
   "name": "python",
   "nbconvert_exporter": "python",
   "pygments_lexer": "ipython3",
   "version": "3.6.9"
  }
 },
 "nbformat": 4,
 "nbformat_minor": 2
}
