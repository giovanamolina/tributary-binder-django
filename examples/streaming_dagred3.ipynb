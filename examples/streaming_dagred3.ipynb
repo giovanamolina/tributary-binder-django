{
 "cells": [
  {
   "cell_type": "code",
   "execution_count": 1,
   "metadata": {},
   "outputs": [
    {
     "data": {
      "application/vnd.jupyter.widget-view+json": {
       "model_id": "c07d7c87157b4caa85bcbfb9b89d313b",
       "version_major": 2,
       "version_minor": 0
      },
      "text/plain": [
       "DagreD3Widget()"
      ]
     },
     "metadata": {},
     "output_type": "display_data"
    }
   ],
   "source": [
    "import tributary.streaming as ts\n",
    "import asyncio, random\n",
    "\n",
    "def foo():\n",
    "    return random.random()\n",
    "\n",
    "async def long():\n",
    "    await asyncio.sleep(1)\n",
    "    return 5\n",
    "    \n",
    "rand = ts.Timer(foo, interval=0, count=5)\n",
    "five = ts.Timer(long, interval=0, count=5)\n",
    "one = ts.Const(1)\n",
    "five2 = ts.Const(5)\n",
    "neg_rand = ts.Negate(rand)\n",
    "\n",
    "\n",
    "x1 = rand + five # 5 + rand\n",
    "x2 = x1 - five2 # rand\n",
    "x3 = x2 + neg_rand # 0\n",
    "res = x3 + one # 1\n",
    "\n",
    "display(res.dagre())\n",
    "x = ts.run(res)"
   ]
  },
  {
   "cell_type": "code",
   "execution_count": null,
   "metadata": {},
   "outputs": [],
   "source": []
  }
 ],
 "metadata": {
  "kernelspec": {
   "display_name": "Python 3",
   "language": "python",
   "name": "python3"
  },
  "language_info": {
   "codemirror_mode": {
    "name": "ipython",
    "version": 3
   },
   "file_extension": ".py",
   "mimetype": "text/x-python",
   "name": "python",
   "nbconvert_exporter": "python",
   "pygments_lexer": "ipython3",
   "version": "3.7.5"
  }
 },
 "nbformat": 4,
 "nbformat_minor": 4
}
