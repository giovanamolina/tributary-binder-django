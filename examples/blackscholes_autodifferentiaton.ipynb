{
 "cells": [
  {
   "cell_type": "markdown",
   "metadata": {},
   "source": [
    "# Black-Scholes Autodifferentiation Example\n",
    "In this example we are calculating $\\theta$ values using the Black-Scholes model."
   ]
  },
  {
   "cell_type": "code",
   "execution_count": 1,
   "metadata": {},
   "outputs": [],
   "source": [
    "# Imports & Constants\n",
    "import tributary.lazy as tl\n",
    "import tributary.streaming as ts\n",
    "import math\n",
    "import matplotlib.pyplot as plt\n",
    "import asyncio\n",
    "TRADING_DAYS = 252"
   ]
  },
  {
   "cell_type": "markdown",
   "metadata": {},
   "source": [
    "## We can use the tributary $\\textit{Erf}$ operator to define a Standard Normal CDF\n",
    "The CDF is defined using $\\Phi(x, \\mu, \\sigma) = \\frac{1}{2}\\left(1 + Erf\\left(\\frac{x-\\mu}{\\sigma\\sqrt{2}}\\right)\\right)$ for $\\mu = 0, \\sigma = 1$"
   ]
  },
  {
   "cell_type": "code",
   "execution_count": 2,
   "metadata": {},
   "outputs": [],
   "source": [
    "# Lazy\n",
    "def normal_cdf_lazy(x):\n",
    "    return tl.Div(\n",
    "        tl.Add(\n",
    "            tl.Erf(tl.Div(x, (math.sqrt(2),0))), \n",
    "            (1,0)\n",
    "        ),\n",
    "        tl.Node((2,0), use_dual=True)\n",
    "    )\n",
    "\n",
    "# Streaming\n",
    "def normal_cdf_streaming(x):\n",
    "    return ts.Div(\n",
    "                ts.Add(\n",
    "                    ts.Erf(ts.Div(x, ts.Const((math.sqrt(2),0), use_dual=True))), \n",
    "                    ts.Const((1,0), use_dual=True)\n",
    "                ),\n",
    "                ts.Const((2,0), use_dual=True)\n",
    "            )\n"
   ]
  },
  {
   "cell_type": "markdown",
   "metadata": {},
   "source": [
    "## Now we can define our streams\n",
    "For this example we are going use a Call Option.\n",
    "We define the model as follows:\n",
    "\n",
    "$C_p = S\\Phi(d_1) - Xe^{-rt}\\Phi(d_2)$\n",
    "\n",
    "$d_1 = \\frac{ln\\left(\\frac{S}{X}\\right) + \\left(r + \\frac{\\sigma^2}{2}\\right)t}{\\sigma\\sqrt{t}}$\n",
    "\n",
    "$d_2 = d_1 - \\sigma\\sqrt{t}$\n",
    "\n",
    "Where\n",
    "\n",
    "$C_p$ - Price of Call Option\n",
    "\n",
    "$S$ - Stock Price\n",
    "\n",
    "$X$ - Strike Price\n",
    "\n",
    "$r$ - Risk Free Interest Rate\n",
    "\n",
    "$\\sigma$ - Stock Price Volatility\n",
    "\n",
    "$t$ - Time to Maturity\n",
    "\n",
    "$\\Phi$ - Standard Normal CDF (defined above)"
   ]
  },
  {
   "cell_type": "markdown",
   "metadata": {},
   "source": [
    "### Lazy Graph"
   ]
  },
  {
   "cell_type": "code",
   "execution_count": 3,
   "metadata": {},
   "outputs": [],
   "source": [
    "strike_price = tl.Node(value=(203, 0), name='Strike Price', use_dual=True)\n",
    "stock_price = tl.Node(value=(210, 0), name='Stock Price', use_dual=True)\n",
    "r = tl.Node(value=(0.2175, 0), name='Risk Free Interest Rate', use_dual=True)\n",
    "time = tl.Div(\n",
    "              tl.Node(value=(4, 1), name='Time to Maturity', use_dual=True), \n",
    "              tl.Node(value=(TRADING_DAYS,0), use_dual=True)\n",
    "        )\n",
    "vol = tl.Node(value=(14.04, 0), name='Stock Price Volatility', use_dual=True)\n",
    "\n",
    "d1 = tl.Div(\n",
    "            tl.Add(\n",
    "                tl.Log(tl.Div(stock_price,strike_price)),\n",
    "                tl.Mult(time, \n",
    "                        tl.Add(r, \n",
    "                               tl.Div(tl.Pow(vol,2),\n",
    "                                      tl.Node((2,0), use_dual=True)\n",
    "                                )\n",
    "                        )\n",
    "                )\n",
    "            ),\n",
    "            tl.Mult(vol, tl.Sqrt(time))\n",
    "    )\n",
    "\n",
    "d2 = tl.Sub(d1, tl.Mult(vol, tl.Sqrt(time)))\n",
    "\n",
    "opt_price_lazy = tl.Sub(\n",
    "                        tl.Mult(\n",
    "                                stock_price, \n",
    "                                normal_cdf_lazy(d1)\n",
    "                        ),\n",
    "                        tl.Mult(\n",
    "                                strike_price, \n",
    "                                tl.Mult(\n",
    "                                        tl.Exp(tl.Negate(tl.Mult(r,time))),\n",
    "                                        normal_cdf_lazy(d2)\n",
    "                                )\n",
    "                        )\n",
    "                )\n"
   ]
  },
  {
   "cell_type": "code",
   "execution_count": 4,
   "metadata": {},
   "outputs": [
    {
     "data": {
      "text/plain": [
       "(132.41454517196362, 12.327192918542838)"
      ]
     },
     "execution_count": 4,
     "metadata": {},
     "output_type": "execute_result"
    }
   ],
   "source": [
    "# Run it\n",
    "opt_price_lazy()"
   ]
  },
  {
   "cell_type": "markdown",
   "metadata": {},
   "source": [
    "### Streaming Graph"
   ]
  },
  {
   "cell_type": "code",
   "execution_count": 5,
   "metadata": {},
   "outputs": [],
   "source": [
    "def _time():\n",
    "    for _ in [1, 2, 3, 4, 5, 6, 7]:\n",
    "        yield (_, 1)\n",
    "\n",
    "strike_price = ts.Const((203,0), use_dual=True)\n",
    "stock_price = ts.Const((210,0), use_dual=True)\n",
    "r = ts.Const((0.2175, 0), use_dual=True)\n",
    "time = ts.Div(\n",
    "              ts.Node(foo=_time, name='Time', use_dual=True), \n",
    "              ts.Const((TRADING_DAYS,0), use_dual=True)\n",
    "        )\n",
    "vol = ts.Const((14.04, 0), use_dual=True)\n",
    "   \n",
    "\n",
    "d1 = ts.Div(\n",
    "            ts.Add(\n",
    "                   ts.Log(ts.Div(stock_price, strike_price)),\n",
    "                   ts.Mult(\n",
    "                           time, \n",
    "                           ts.Add(\n",
    "                                  r, \n",
    "                                  ts.Div(\n",
    "                                         ts.Pow(vol,2),\n",
    "                                         ts.Const((2,0), use_dual=True)\n",
    "                                  )\n",
    "                            )\n",
    "                  )\n",
    "            ),\n",
    "            ts.Mult(vol, ts.Sqrt(time))\n",
    "     )\n",
    "\n",
    "d2 = ts.Sub(d1, ts.Mult(vol, ts.Sqrt(time)))\n",
    "\n",
    "opt_price_streaming = ts.Sub(\n",
    "                   ts.Mult(stock_price, normal_cdf_streaming(d1)),\n",
    "                   ts.Mult(\n",
    "                           strike_price,\n",
    "                           ts.Mult(\n",
    "                                   ts.Exp(ts.Negate(ts.Mult(r,time))),\n",
    "                                          normal_cdf_streaming(d2)\n",
    "                           )\n",
    "                    )\n",
    "            )"
   ]
  },
  {
   "cell_type": "code",
   "execution_count": 6,
   "metadata": {},
   "outputs": [],
   "source": [
    "# Run It\n",
    "out_streaming = ts.run(opt_price_streaming)\n",
    "while not out_streaming.done():\n",
    "    await asyncio.sleep(1)"
   ]
  },
  {
   "cell_type": "markdown",
   "metadata": {},
   "source": [
    "## Let's do some plots"
   ]
  },
  {
   "cell_type": "code",
   "execution_count": 7,
   "metadata": {},
   "outputs": [
    {
     "data": {
      "image/png": "[encoded data removed]",
      "text/plain": [
       "<Figure size 432x288 with 1 Axes>"
      ]
     },
     "metadata": {
      "needs_background": "light"
     },
     "output_type": "display_data"
    }
   ],
   "source": [
    "thetas = [x[1] for x in out_streaming.result()]\n",
    "plt.plot([x[0] for x in _time()], thetas)\n",
    "plt.xlabel('Time to Maturity')\n",
    "plt.ylabel('Theta Values')\n",
    "plt.gca().invert_xaxis()"
   ]
  },
  {
   "cell_type": "code",
   "execution_count": 8,
   "metadata": {},
   "outputs": [
    {
     "data": {
      "image/png": "[encoded data removed]",
      "text/plain": [
       "<Figure size 432x288 with 1 Axes>"
      ]
     },
     "metadata": {
      "needs_background": "light"
     },
     "output_type": "display_data"
    }
   ],
   "source": [
    "option_value = [x[0] for x in out_streaming.result()]\n",
    "plt.plot([x[0] for x in _time()], option_value)\n",
    "plt.xlabel('Time to Maturity')\n",
    "plt.ylabel('Option Value')\n",
    "plt.gca().invert_xaxis()"
   ]
  },
  {
   "cell_type": "code",
   "execution_count": null,
   "metadata": {},
   "outputs": [],
   "source": []
  }
 ],
 "metadata": {
  "kernelspec": {
   "display_name": "Python 3",
   "language": "python",
   "name": "python3"
  },
  "language_info": {
   "codemirror_mode": {
    "name": "ipython",
    "version": 3
   },
   "file_extension": ".py",
   "mimetype": "text/x-python",
   "name": "python",
   "nbconvert_exporter": "python",
   "pygments_lexer": "ipython3",
   "version": "3.7.5"
  }
 },
 "nbformat": 4,
 "nbformat_minor": 2
}
