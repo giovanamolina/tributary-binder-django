{
 "cells": [
  {
   "cell_type": "markdown",
   "metadata": {},
   "source": [
    "# Black-Scholes Autodifferentiation Example\n",
    "In this example we are calculating $\\theta$ values using the Black-Scholes model via a Lazy Stream."
   ]
  },
  {
   "cell_type": "code",
   "execution_count": 5,
   "metadata": {},
   "outputs": [],
   "source": [
    "# Imports & Constants\n",
    "import tributary.lazy as tl\n",
    "import math\n",
    "TRADING_DAYS = 252"
   ]
  },
  {
   "cell_type": "markdown",
   "metadata": {},
   "source": [
    "## We can use the tributary $\\textit{Erf}$ operator to define a Standard Normal CDF\n",
    "The CDF is defined using $\\Phi(x, \\mu, \\sigma) = \\frac{1}{2}\\left(1 + Erf\\left(\\frac{x-\\mu}{\\sigma\\sqrt{2}}\\right)\\right)$ for $\\mu = 0, \\sigma = 1$"
   ]
  },
  {
   "cell_type": "code",
   "execution_count": 6,
   "metadata": {},
   "outputs": [],
   "source": [
    "def normal_cdf(x):\n",
    "    return ((tl.Erf(x / tl.Node((math.sqrt(2),0), use_dual=True)) + tl.Node((1,0), use_dual=True))\n",
    "            / tl.Node((2,0), use_dual=True))"
   ]
  },
  {
   "cell_type": "markdown",
   "metadata": {},
   "source": [
    "## Now we can define our stream\n",
    "For this example we are going use a Call Option.\n",
    "We define the model as follows:\n",
    "\n",
    "$C_p = S\\Phi(d_1) - Xe^{-rt}\\Phi(d_2)$\n",
    "\n",
    "$d_1 = \\frac{ln\\left(\\frac{S}{X}\\right) + \\left(r + \\frac{\\sigma^2}{2}\\right)t}{\\sigma\\sqrt{t}}$\n",
    "\n",
    "$d_2 = d_1 - \\sigma\\sqrt{t}$\n",
    "\n",
    "Where\n",
    "\n",
    "$C_p$ - Price of Call Option\n",
    "\n",
    "$S$ - Stock Price\n",
    "\n",
    "$X$ - Strike Price\n",
    "\n",
    "$r$ - Risk Free Interest Rate\n",
    "\n",
    "$\\sigma$ - Stock Price Volatility\n",
    "\n",
    "$t$ - Time to Maturity\n",
    "\n",
    "$\\Phi$ - Standard Normal CDF (defined above)"
   ]
  },
  {
   "cell_type": "markdown",
   "metadata": {},
   "source": [
    "### Lazy Graph"
   ]
  },
  {
   "cell_type": "code",
   "execution_count": 7,
   "metadata": {},
   "outputs": [],
   "source": [
    "strike_price = tl.Node(value=(203, 0), name='Strike Price', use_dual=True)\n",
    "stock_price = tl.Node(value=(210, 0), name='Stock Price', use_dual=True)\n",
    "r = tl.Node(value=(0.2175, 0), name='Risk Free Interest Rate', use_dual=True)\n",
    "time = tl.Div(\n",
    "              tl.Node(value=(4, 1), name='Time to Maturity', use_dual=True), \n",
    "              tl.Node(value=(TRADING_DAYS,0), use_dual=True)\n",
    "        )\n",
    "vol = tl.Node(value=(14.04, 0), name='Stock Price Volatility', use_dual=True)\n",
    "\n",
    "d1 = ((tl.Log(stock_price / strike_price) + time * (r + (vol**2 / tl.Node((2,0), use_dual=True)))) \n",
    "      / (vol * tl.Sqrt(time)))\n",
    "    \n",
    "\n",
    "d2 = d1 - vol * tl.Sqrt(time)\n",
    "\n",
    "opt_price_lazy = stock_price * normal_cdf(d1)- strike_price *tl.Exp(tl.Negate(r * time)) * normal_cdf(d2)      "
   ]
  },
  {
   "cell_type": "code",
   "execution_count": 8,
   "metadata": {},
   "outputs": [
    {
     "data": {
      "text/plain": [
       "(132.41454517196362, 12.327192918542838)"
      ]
     },
     "execution_count": 8,
     "metadata": {},
     "output_type": "execute_result"
    }
   ],
   "source": [
    "# Run it\n",
    "opt_price_lazy()"
   ]
  },
  {
   "cell_type": "code",
   "execution_count": null,
   "metadata": {},
   "outputs": [],
   "source": []
  }
 ],
 "metadata": {
  "kernelspec": {
   "display_name": "Python 3",
   "language": "python",
   "name": "python3"
  },
  "language_info": {
   "codemirror_mode": {
    "name": "ipython",
    "version": 3
   },
   "file_extension": ".py",
   "mimetype": "text/x-python",
   "name": "python",
   "nbconvert_exporter": "python",
   "pygments_lexer": "ipython3",
   "version": "3.7.5"
  }
 },
 "nbformat": 4,
 "nbformat_minor": 4
}
