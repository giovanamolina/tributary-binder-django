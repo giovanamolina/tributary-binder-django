{
 "cells": [
  {
   "cell_type": "markdown",
   "metadata": {},
   "source": [
    "# Simple Example"
   ]
  },
  {
   "cell_type": "code",
   "execution_count": 1,
   "metadata": {},
   "outputs": [],
   "source": [
    "import tributary as t\n",
    "import random, time\n",
    "\n",
    "def foo():\n",
    "    return random.random()\n",
    "\n",
    "def long():\n",
    "    print('long called!')\n",
    "    time.sleep(1)\n",
    "    return 5\n",
    "\n",
    "\n",
    "test = t.Timer(foo, {}, .5, 5)\n",
    "\n",
    "test2 = t.Negate(test)\n",
    "\n",
    "res2 = t.Add(test, test2)\n",
    "\n",
    "p2 = t.Print(res2)"
   ]
  },
  {
   "cell_type": "code",
   "execution_count": 2,
   "metadata": {},
   "outputs": [],
   "source": [
    "# t.GraphViz(p2, 'test1')"
   ]
  },
  {
   "cell_type": "code",
   "execution_count": 3,
   "metadata": {},
   "outputs": [],
   "source": [
    "x = t.run(p2)"
   ]
  },
  {
   "cell_type": "code",
   "execution_count": 4,
   "metadata": {},
   "outputs": [
    {
     "ename": "InvalidStateError",
     "evalue": "Result is not set.",
     "output_type": "error",
     "traceback": [
      "\u001b[0;31m---------------------------------------------------------------------------\u001b[0m",
      "\u001b[0;31mInvalidStateError\u001b[0m                         Traceback (most recent call last)",
      "\u001b[0;32m<ipython-input-4-fb5cf2ba9423>\u001b[0m in \u001b[0;36m<module>\u001b[0;34m\u001b[0m\n\u001b[0;32m----> 1\u001b[0;31m \u001b[0mx\u001b[0m\u001b[0;34m.\u001b[0m\u001b[0mresult\u001b[0m\u001b[0;34m(\u001b[0m\u001b[0;34m)\u001b[0m\u001b[0;34m\u001b[0m\u001b[0;34m\u001b[0m\u001b[0m\n\u001b[0m",
      "\u001b[0;31mInvalidStateError\u001b[0m: Result is not set."
     ]
    },
    {
     "name": "stdout",
     "output_type": "stream",
     "text": [
      "Print <function Print.<locals>._print at 0x11f7c8320>\n",
      "Add <function bin.<locals>._bin at 0x11f7c8290>\n",
      "Timer <function Timer.<locals>._repeater at 0x11f189680>\n",
      "Negate <function unary.<locals>._unary at 0x11f7c8170>\n",
      "Foo <function foo at 0x11e48b050>\n"
     ]
    },
    {
     "name": "stderr",
     "output_type": "stream",
     "text": [
      "/usr/local/lib/python3.7/site-packages/aiostream/aiter_utils.py:115: UserWarning: AsyncIteratorContext is iterated outside of its context\n",
      "  \"AsyncIteratorContext is iterated outside of its context\")\n"
     ]
    },
    {
     "name": "stdout",
     "output_type": "stream",
     "text": [
      "Foo <function foo at 0x11e48b050>\n",
      "Foo <function foo at 0x11e48b050>\n",
      "Foo <function foo at 0x11e48b050>\n",
      "Foo <function foo at 0x11e48b050>\n"
     ]
    }
   ],
   "source": [
    "x.result()"
   ]
  },
  {
   "cell_type": "code",
   "execution_count": null,
   "metadata": {},
   "outputs": [],
   "source": []
  }
 ],
 "metadata": {
  "kernelspec": {
   "display_name": "Python 3",
   "language": "python",
   "name": "python3"
  },
  "language_info": {
   "codemirror_mode": {
    "name": "ipython",
    "version": 3
   },
   "file_extension": ".py",
   "mimetype": "text/x-python",
   "name": "python",
   "nbconvert_exporter": "python",
   "pygments_lexer": "ipython3",
   "version": "3.7.5"
  }
 },
 "nbformat": 4,
 "nbformat_minor": 4
}
