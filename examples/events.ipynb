{
 "cells": [
  {
   "cell_type": "code",
   "execution_count": 1,
   "metadata": {},
   "outputs": [],
   "source": [
    "import tributary as t"
   ]
  },
  {
   "cell_type": "code",
   "execution_count": 12,
   "metadata": {},
   "outputs": [],
   "source": [
    "# def myfoo(state, data):\n",
    "#     state.count = state.count + 1\n",
    "#     data['count'] = state.count\n",
    "#     return data\n",
    "\n",
    "@mydec(state=0)\n",
    "def myfoo(data):\n",
    "    data['AA'] = data['A'] + 1\n",
    "    return data"
   ]
  },
  {
   "cell_type": "code",
   "execution_count": 13,
   "metadata": {},
   "outputs": [
    {
     "data": {
      "application/vnd.jupyter.widget-view+json": {
       "model_id": "f5dc6fef2f4a423b966be2b35b69fa69",
       "version_major": 2,
       "version_minor": 0
      },
      "text/plain": [
       "PerspectiveWidget()"
      ]
     },
     "metadata": {},
     "output_type": "display_data"
    },
    {
     "data": {
      "application/vnd.jupyter.widget-view+json": {
       "model_id": "6ea0fc27ad8f429287d91bccc7192347",
       "version_major": 2,
       "version_minor": 0
      },
      "text/plain": [
       "PerspectiveWidget(view='y_line')"
      ]
     },
     "metadata": {},
     "output_type": "display_data"
    },
    {
     "data": {
      "application/vnd.jupyter.widget-view+json": {
       "model_id": "ee9abcd549b54fa28e84ae5bd6acfd23",
       "version_major": 2,
       "version_minor": 0
      },
      "text/plain": [
       "PerspectiveWidget(view='y_line')"
      ]
     },
     "metadata": {},
     "output_type": "display_data"
    }
   ],
   "source": [
    "psp1 = t.Perspective(t.Random())\n",
    "psp2 = t.Perspective(psp1, view='y_line')\n",
    "# n = t.Node(t.State(myfoo, count=0), psp2)\n",
    "n = t.Node(myfoo, psp2)\n",
    "psp = t.Perspective(n, view='y_line')"
   ]
  },
  {
   "cell_type": "code",
   "execution_count": 14,
   "metadata": {},
   "outputs": [
    {
     "name": "stdout",
     "output_type": "stream",
     "text": [
      "Terminating...\n"
     ]
    },
    {
     "data": {
      "text/plain": [
       "[{'A': -0.6957050010047756,\n",
       "  'B': -0.3493008015432773,\n",
       "  'C': 0.2612990579404456,\n",
       "  'D': 0.6137567259308506,\n",
       "  'AA': 0.3042949989952244},\n",
       " {'A': 0.5952421578764057,\n",
       "  'B': 0.124812414509418,\n",
       "  'C': -1.4144964631083516,\n",
       "  'D': 0.7255893544259061,\n",
       "  'AA': 1.5952421578764056},\n",
       " {'A': 0.152415150826778,\n",
       "  'B': -0.23576800691759695,\n",
       "  'C': -0.2443100441791559,\n",
       "  'D': -0.9708906816427593,\n",
       "  'AA': 1.152415150826778},\n",
       " {'A': -0.6284197486835624,\n",
       "  'B': -0.8001210737005066,\n",
       "  'C': 1.7582326480678931,\n",
       "  'D': 2.063740913185299,\n",
       "  'AA': 0.37158025131643757},\n",
       " {'A': 0.8342510912573888,\n",
       "  'B': -0.37912561716602206,\n",
       "  'C': -0.1846866560637271,\n",
       "  'D': -2.014704487997448,\n",
       "  'AA': 1.8342510912573888},\n",
       " {'A': -0.6397258973401867,\n",
       "  'B': -1.884957515620313,\n",
       "  'C': 0.9033628460293535,\n",
       "  'D': -0.7960340502818453,\n",
       "  'AA': 0.3602741026598133},\n",
       " {'A': -0.48174447568286904,\n",
       "  'B': 1.2758249845755132,\n",
       "  'C': -0.15461674546797408,\n",
       "  'D': -0.4754572212646202,\n",
       "  'AA': 0.518255524317131},\n",
       " {'A': 0.5253383551443334,\n",
       "  'B': 1.3167365265912592,\n",
       "  'C': 0.6180250783698913,\n",
       "  'D': 0.19313195790709142,\n",
       "  'AA': 1.5253383551443334},\n",
       " {'A': -0.2942414103771104,\n",
       "  'B': 0.504997790748498,\n",
       "  'C': 1.056061099254027,\n",
       "  'D': -0.8819467950947443,\n",
       "  'AA': 0.7057585896228896},\n",
       " {'A': 0.5371537702170931,\n",
       "  'B': -0.8050601361039444,\n",
       "  'C': 0.8479872260919483,\n",
       "  'D': -0.6783639286507549,\n",
       "  'AA': 1.5371537702170932},\n",
       " {'A': -0.7963472662932382,\n",
       "  'B': -0.3200451086500821,\n",
       "  'C': 0.30630915804814923,\n",
       "  'D': 0.7584136722584716,\n",
       "  'AA': 0.20365273370676185},\n",
       " {'A': -0.6675582886623622,\n",
       "  'B': 0.06428099997245293,\n",
       "  'C': -0.8981941959560655,\n",
       "  'D': -1.0227833563400852,\n",
       "  'AA': 0.3324417113376378},\n",
       " {'A': 0.7803095244919814,\n",
       "  'B': 0.5869874843833047,\n",
       "  'C': 0.26900499747548196,\n",
       "  'D': -0.6603127404359248,\n",
       "  'AA': 1.7803095244919813},\n",
       " {'A': -2.007075716983752,\n",
       "  'B': -1.115366846966073,\n",
       "  'C': -0.2538599410615617,\n",
       "  'D': 2.0838740929438058,\n",
       "  'AA': -1.0070757169837519},\n",
       " {'A': -1.449751923195645,\n",
       "  'B': 1.3322547263844025,\n",
       "  'C': 0.5618224378933325,\n",
       "  'D': -1.1499408628447183,\n",
       "  'AA': -0.44975192319564505},\n",
       " {'A': -2.0305894651535166,\n",
       "  'B': 0.5320814450907163,\n",
       "  'C': -1.98539008561535,\n",
       "  'D': 1.006086014020749,\n",
       "  'AA': -1.0305894651535166}]"
      ]
     },
     "execution_count": 14,
     "metadata": {},
     "output_type": "execute_result"
    }
   ],
   "source": [
    "t.run(psp)"
   ]
  },
  {
   "cell_type": "code",
   "execution_count": 16,
   "metadata": {},
   "outputs": [
    {
     "data": {
      "image/svg+xml": [
       "<?xml version=\"1.0\" encoding=\"UTF-8\" standalone=\"no\"?>\n",
       "<!DOCTYPE svg PUBLIC \"-//W3C//DTD SVG 1.1//EN\"\n",
       " \"http://www.w3.org/Graphics/SVG/1.1/DTD/svg11.dtd\">\n",
       "<!-- Generated by graphviz version 2.40.1 (20161225.0304)\n",
       " -->\n",
       "<!-- Title: psp Pages: 1 -->\n",
       "<svg width=\"382pt\" height=\"404pt\"\n",
       " viewBox=\"0.00 0.00 381.81 404.00\" xmlns=\"http://www.w3.org/2000/svg\" xmlns:xlink=\"http://www.w3.org/1999/xlink\">\n",
       "<g id=\"graph0\" class=\"graph\" transform=\"scale(1 1) rotate(0) translate(4 400)\">\n",
       "<title>psp</title>\n",
       "<polygon fill=\"#ffffff\" stroke=\"transparent\" points=\"-4,4 -4,-400 377.8113,-400 377.8113,4 -4,4\"/>\n",
       "<!-- Perspective0 -->\n",
       "<g id=\"node1\" class=\"node\">\n",
       "<title>Perspective0</title>\n",
       "<ellipse fill=\"none\" stroke=\"#000000\" cx=\"220.5199\" cy=\"-18\" rx=\"55.0836\" ry=\"18\"/>\n",
       "<text text-anchor=\"middle\" x=\"220.5199\" y=\"-13.8\" font-family=\"Times,serif\" font-size=\"14.00\" fill=\"#000000\">Perspective0</text>\n",
       "</g>\n",
       "<!-- Node1 -->\n",
       "<g id=\"node2\" class=\"node\">\n",
       "<title>Node1</title>\n",
       "<ellipse fill=\"none\" stroke=\"#000000\" cx=\"220.5199\" cy=\"-90\" rx=\"33.8683\" ry=\"18\"/>\n",
       "<text text-anchor=\"middle\" x=\"220.5199\" y=\"-85.8\" font-family=\"Times,serif\" font-size=\"14.00\" fill=\"#000000\">Node1</text>\n",
       "</g>\n",
       "<!-- Node1&#45;&gt;Perspective0 -->\n",
       "<g id=\"edge6\" class=\"edge\">\n",
       "<title>Node1&#45;&gt;Perspective0</title>\n",
       "<path fill=\"none\" stroke=\"#000000\" d=\"M220.5199,-71.8314C220.5199,-64.131 220.5199,-54.9743 220.5199,-46.4166\"/>\n",
       "<polygon fill=\"#000000\" stroke=\"#000000\" points=\"224.02,-46.4132 220.5199,-36.4133 217.02,-46.4133 224.02,-46.4132\"/>\n",
       "</g>\n",
       "<!-- Foo2 -->\n",
       "<g id=\"node3\" class=\"node\">\n",
       "<title>Foo2</title>\n",
       "<ellipse fill=\"none\" stroke=\"#000000\" cx=\"220.5199\" cy=\"-162\" rx=\"28.0822\" ry=\"18\"/>\n",
       "<text text-anchor=\"middle\" x=\"220.5199\" y=\"-157.8\" font-family=\"Times,serif\" font-size=\"14.00\" fill=\"#000000\">Foo2</text>\n",
       "</g>\n",
       "<!-- Foo2&#45;&gt;Node1 -->\n",
       "<g id=\"edge5\" class=\"edge\">\n",
       "<title>Foo2&#45;&gt;Node1</title>\n",
       "<path fill=\"none\" stroke=\"#000000\" d=\"M220.5199,-143.8314C220.5199,-136.131 220.5199,-126.9743 220.5199,-118.4166\"/>\n",
       "<polygon fill=\"#000000\" stroke=\"#000000\" points=\"224.02,-118.4132 220.5199,-108.4133 217.02,-118.4133 224.02,-118.4132\"/>\n",
       "</g>\n",
       "<!-- function myfoo at 0x1187b6f28 -->\n",
       "<g id=\"node4\" class=\"node\">\n",
       "<title>function myfoo at 0x1187b6f28</title>\n",
       "<ellipse fill=\"none\" stroke=\"#000000\" cx=\"122.5199\" cy=\"-234\" rx=\"122.5398\" ry=\"18\"/>\n",
       "<text text-anchor=\"middle\" x=\"122.5199\" y=\"-229.8\" font-family=\"Times,serif\" font-size=\"14.00\" fill=\"#000000\">function myfoo at 0x1187b6f28</text>\n",
       "</g>\n",
       "<!-- function myfoo at 0x1187b6f28&#45;&gt;Foo2 -->\n",
       "<g id=\"edge1\" class=\"edge\">\n",
       "<title>function myfoo at 0x1187b6f28&#45;&gt;Foo2</title>\n",
       "<path fill=\"none\" stroke=\"#000000\" d=\"M146.7446,-216.2022C160.9591,-205.7589 178.9484,-192.5423 193.6044,-181.7746\"/>\n",
       "<polygon fill=\"#000000\" stroke=\"#000000\" points=\"195.8082,-184.4987 201.7947,-175.7573 191.6636,-178.8575 195.8082,-184.4987\"/>\n",
       "</g>\n",
       "<!-- Perspective3 -->\n",
       "<g id=\"node5\" class=\"node\">\n",
       "<title>Perspective3</title>\n",
       "<ellipse fill=\"none\" stroke=\"#000000\" cx=\"318.5199\" cy=\"-234\" rx=\"55.0836\" ry=\"18\"/>\n",
       "<text text-anchor=\"middle\" x=\"318.5199\" y=\"-229.8\" font-family=\"Times,serif\" font-size=\"14.00\" fill=\"#000000\">Perspective3</text>\n",
       "</g>\n",
       "<!-- Perspective3&#45;&gt;Foo2 -->\n",
       "<g id=\"edge4\" class=\"edge\">\n",
       "<title>Perspective3&#45;&gt;Foo2</title>\n",
       "<path fill=\"none\" stroke=\"#000000\" d=\"M295.7904,-217.3008C281.4213,-206.7439 262.7731,-193.0432 247.6334,-181.9201\"/>\n",
       "<polygon fill=\"#000000\" stroke=\"#000000\" points=\"249.3147,-178.8123 239.1836,-175.7121 245.1702,-184.4535 249.3147,-178.8123\"/>\n",
       "</g>\n",
       "<!-- Perspective4 -->\n",
       "<g id=\"node6\" class=\"node\">\n",
       "<title>Perspective4</title>\n",
       "<ellipse fill=\"none\" stroke=\"#000000\" cx=\"318.5199\" cy=\"-306\" rx=\"55.0836\" ry=\"18\"/>\n",
       "<text text-anchor=\"middle\" x=\"318.5199\" y=\"-301.8\" font-family=\"Times,serif\" font-size=\"14.00\" fill=\"#000000\">Perspective4</text>\n",
       "</g>\n",
       "<!-- Perspective4&#45;&gt;Perspective3 -->\n",
       "<g id=\"edge3\" class=\"edge\">\n",
       "<title>Perspective4&#45;&gt;Perspective3</title>\n",
       "<path fill=\"none\" stroke=\"#000000\" d=\"M318.5199,-287.8314C318.5199,-280.131 318.5199,-270.9743 318.5199,-262.4166\"/>\n",
       "<polygon fill=\"#000000\" stroke=\"#000000\" points=\"322.02,-262.4132 318.5199,-252.4133 315.02,-262.4133 322.02,-262.4132\"/>\n",
       "</g>\n",
       "<!-- Random5 -->\n",
       "<g id=\"node7\" class=\"node\">\n",
       "<title>Random5</title>\n",
       "<ellipse fill=\"none\" stroke=\"#000000\" cx=\"318.5199\" cy=\"-378\" rx=\"44.4923\" ry=\"18\"/>\n",
       "<text text-anchor=\"middle\" x=\"318.5199\" y=\"-373.8\" font-family=\"Times,serif\" font-size=\"14.00\" fill=\"#000000\">Random5</text>\n",
       "</g>\n",
       "<!-- Random5&#45;&gt;Perspective4 -->\n",
       "<g id=\"edge2\" class=\"edge\">\n",
       "<title>Random5&#45;&gt;Perspective4</title>\n",
       "<path fill=\"none\" stroke=\"#000000\" d=\"M318.5199,-359.8314C318.5199,-352.131 318.5199,-342.9743 318.5199,-334.4166\"/>\n",
       "<polygon fill=\"#000000\" stroke=\"#000000\" points=\"322.02,-334.4132 318.5199,-324.4133 315.02,-334.4133 322.02,-334.4132\"/>\n",
       "</g>\n",
       "</g>\n",
       "</svg>\n"
      ],
      "text/plain": [
       "<graphviz.dot.Digraph at 0x1187c3908>"
      ]
     },
     "execution_count": 16,
     "metadata": {},
     "output_type": "execute_result"
    }
   ],
   "source": [
    "t.GraphViz(psp, 'psp')"
   ]
  },
  {
   "cell_type": "code",
   "execution_count": null,
   "metadata": {},
   "outputs": [],
   "source": []
  }
 ],
 "metadata": {
  "kernelspec": {
   "display_name": "Python 3",
   "language": "python",
   "name": "python3"
  },
  "language_info": {
   "codemirror_mode": {
    "name": "ipython",
    "version": 3
   },
   "file_extension": ".py",
   "mimetype": "text/x-python",
   "name": "python",
   "nbconvert_exporter": "python",
   "pygments_lexer": "ipython3",
   "version": "3.7.0"
  }
 },
 "nbformat": 4,
 "nbformat_minor": 2
}
