{
 "cells": [
  {
   "cell_type": "code",
   "execution_count": 1,
   "metadata": {},
   "outputs": [],
   "source": [
    "import tributary as t\n",
    "import random\n",
    "import time"
   ]
  },
  {
   "cell_type": "code",
   "execution_count": 2,
   "metadata": {},
   "outputs": [],
   "source": [
    "def foo():\n",
    "    return random.random()\n",
    "\n",
    "# def forever():\n",
    "#     while 1:\n",
    "#         yield random.random()\n",
    "        \n",
    "def long():\n",
    "    time.sleep(1)\n",
    "    return 5"
   ]
  },
  {
   "cell_type": "code",
   "execution_count": 3,
   "metadata": {},
   "outputs": [],
   "source": [
    "timer1 = t.timer(foo, kwargs={}, interval=1, repeat=5)\n",
    "timer2 = t.timer(long, kwargs={}, interval=1, repeat=5)\n",
    "\n",
    "join = t.add(timer1, timer2)\n",
    "p = t.print(join)"
   ]
  },
  {
   "cell_type": "code",
   "execution_count": null,
   "metadata": {},
   "outputs": [
    {
     "name": "stdout",
     "output_type": "stream",
     "text": [
      "calling <function print.<locals>._print at 0x1031537b8>\n",
      "calling <function add.<locals>._add at 0x1031536a8>\n",
      "calling <function timer.<locals>._repeater at 0x103153620>\n",
      "calling <function timer.<locals>._repeater at 0x103153730>\n",
      "calling <function foo at 0x10312bbf8>\n",
      "calling <function long at 0x1031531e0>\n",
      "5.2494067526001675\n",
      "calling <function foo at 0x10312bbf8>\n",
      "calling <function long at 0x1031531e0>\n",
      "5.779295761363491\n",
      "calling <function foo at 0x10312bbf8>\n",
      "calling <function long at 0x1031531e0>\n"
     ]
    }
   ],
   "source": [
    "t.run(p)"
   ]
  },
  {
   "cell_type": "code",
   "execution_count": 6,
   "metadata": {},
   "outputs": [
    {
     "name": "stdout",
     "output_type": "stream",
     "text": [
      "calling <function print.<locals>._print at 0x111495378>\n",
      "calling <function timer.<locals>._repeater at 0x1114231e0>\n",
      "<generator object FunctionWrapper.__call__ at 0x1114929a8>\n",
      "<generator object FunctionWrapper.__call__ at 0x111492930>\n",
      "<generator object FunctionWrapper.__call__ at 0x1114928b8>\n",
      "<generator object FunctionWrapper.__call__ at 0x1114929a8>\n",
      "<generator object FunctionWrapper.__call__ at 0x111492930>\n"
     ]
    }
   ],
   "source": [
    "t.run(t.print(timer1))"
   ]
  },
  {
   "cell_type": "code",
   "execution_count": null,
   "metadata": {},
   "outputs": [],
   "source": []
  }
 ],
 "metadata": {
  "kernelspec": {
   "display_name": "Python 3",
   "language": "python",
   "name": "python3"
  },
  "language_info": {
   "codemirror_mode": {
    "name": "ipython",
    "version": 3
   },
   "file_extension": ".py",
   "mimetype": "text/x-python",
   "name": "python",
   "nbconvert_exporter": "python",
   "pygments_lexer": "ipython3",
   "version": "3.7.0"
  }
 },
 "nbformat": 4,
 "nbformat_minor": 2
}
