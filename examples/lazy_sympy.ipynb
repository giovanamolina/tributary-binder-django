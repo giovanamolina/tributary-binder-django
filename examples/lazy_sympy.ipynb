{
 "cells": [
  {
   "cell_type": "code",
   "execution_count": 1,
   "metadata": {},
   "outputs": [],
   "source": [
    "import tributary.symbolic as ts"
   ]
  },
  {
   "cell_type": "code",
   "execution_count": 2,
   "metadata": {},
   "outputs": [],
   "source": [
    "expr = ts.parse_expression(\"10sin**2 x**2 + 3xyz + tan theta\")\n",
    "# ts.graphviz(expr)"
   ]
  },
  {
   "cell_type": "code",
   "execution_count": 3,
   "metadata": {},
   "outputs": [
    {
     "data": {
      "image/png": "[encoded data removed]",
      "text/latex": [
       "$$3 x y z + 10 \\sin^{2}{\\left (x^{2} \\right )} + \\tan{\\left (\\theta \\right )}$$"
      ],
      "text/plain": [
       "                2⎛ 2⎞         \n",
       "3⋅x⋅y⋅z + 10⋅sin ⎝x ⎠ + tan(θ)"
      ]
     },
     "execution_count": 3,
     "metadata": {},
     "output_type": "execute_result"
    }
   ],
   "source": [
    "expr"
   ]
  },
  {
   "cell_type": "code",
   "execution_count": 5,
   "metadata": {},
   "outputs": [
    {
     "name": "stdout",
     "output_type": "stream",
     "text": [
      "['x', 'theta', 'y', 'z']\n"
     ]
    }
   ],
   "source": [
    "clz = ts.construct_lazy(expr)\n",
    "x = clz(x=1, y=2, z=3, theta=4)"
   ]
  },
  {
   "cell_type": "code",
   "execution_count": 6,
   "metadata": {},
   "outputs": [
    {
     "data": {
      "text/plain": [
       "<tributary.symbolic.construct_lazy.<locals>.Lazy at 0x11a3c2a58>"
      ]
     },
     "execution_count": 6,
     "metadata": {},
     "output_type": "execute_result"
    }
   ],
   "source": [
    "x"
   ]
  },
  {
   "cell_type": "code",
   "execution_count": 9,
   "metadata": {},
   "outputs": [
    {
     "data": {
      "image/png": "[encoded data removed]",
      "text/latex": [
       "$$26.238555465085287$$"
      ],
      "text/plain": [
       "26.238555465085287"
      ]
     },
     "execution_count": 9,
     "metadata": {},
     "output_type": "execute_result"
    }
   ],
   "source": [
    "x.evaluate()()"
   ]
  },
  {
   "cell_type": "code",
   "execution_count": 11,
   "metadata": {},
   "outputs": [
    {
     "data": {
      "image/png": "[encoded data removed]",
      "text/latex": [
       "$$42.88532145139265$$"
      ],
      "text/plain": [
       "42.88532145139265"
      ]
     },
     "execution_count": 11,
     "metadata": {},
     "output_type": "execute_result"
    }
   ],
   "source": [
    "x.x = 2\n",
    "x.evaluate()()"
   ]
  },
  {
   "cell_type": "code",
   "execution_count": 12,
   "metadata": {},
   "outputs": [
    {
     "data": {
      "image/svg+xml": [
       "<?xml version=\"1.0\" encoding=\"UTF-8\" standalone=\"no\"?>\n",
       "<!DOCTYPE svg PUBLIC \"-//W3C//DTD SVG 1.1//EN\"\n",
       " \"http://www.w3.org/Graphics/SVG/1.1/DTD/svg11.dtd\">\n",
       "<!-- Generated by graphviz version 2.40.1 (20161225.0304)\n",
       " -->\n",
       "<!-- Title: evaluate Pages: 1 -->\n",
       "<svg width=\"868pt\" height=\"548pt\"\n",
       " viewBox=\"0.00 0.00 868.26 548.00\" xmlns=\"http://www.w3.org/2000/svg\" xmlns:xlink=\"http://www.w3.org/1999/xlink\">\n",
       "<g id=\"graph0\" class=\"graph\" transform=\"scale(1 1) rotate(0) translate(4 544)\">\n",
       "<title>evaluate</title>\n",
       "<polygon fill=\"#ffffff\" stroke=\"transparent\" points=\"-4,4 -4,-544 864.2607,-544 864.2607,4 -4,4\"/>\n",
       "<!-- evaluate#0 -->\n",
       "<g id=\"node1\" class=\"node\">\n",
       "<title>evaluate#0</title>\n",
       "<ellipse fill=\"none\" stroke=\"#000000\" cx=\"570\" cy=\"-18\" rx=\"48.3169\" ry=\"18\"/>\n",
       "<text text-anchor=\"middle\" x=\"570\" y=\"-13.8\" font-family=\"Times,serif\" font-size=\"14.00\" fill=\"#000000\">evaluate#0</text>\n",
       "</g>\n",
       "<!-- +_+_*_*_*_x_gen_3_y_z_*_**_sin_**_x_gen_2_gen_2_gen_10_tan_theta#1 -->\n",
       "<g id=\"node2\" class=\"node\">\n",
       "<title>+_+_*_*_*_x_gen_3_y_z_*_**_sin_**_x_gen_2_gen_2_gen_10_tan_theta#1</title>\n",
       "<ellipse fill=\"none\" stroke=\"#000000\" cx=\"570\" cy=\"-90\" rx=\"290.0217\" ry=\"18\"/>\n",
       "<text text-anchor=\"middle\" x=\"570\" y=\"-85.8\" font-family=\"Times,serif\" font-size=\"14.00\" fill=\"#000000\">+_+_*_*_*_x_gen_3_y_z_*_**_sin_**_x_gen_2_gen_2_gen_10_tan_theta#1</text>\n",
       "</g>\n",
       "<!-- +_+_*_*_*_x_gen_3_y_z_*_**_sin_**_x_gen_2_gen_2_gen_10_tan_theta#1&#45;&gt;evaluate#0 -->\n",
       "<g id=\"edge19\" class=\"edge\">\n",
       "<title>+_+_*_*_*_x_gen_3_y_z_*_**_sin_**_x_gen_2_gen_2_gen_10_tan_theta#1&#45;&gt;evaluate#0</title>\n",
       "<path fill=\"none\" stroke=\"#000000\" d=\"M570,-71.8314C570,-64.131 570,-54.9743 570,-46.4166\"/>\n",
       "<polygon fill=\"#000000\" stroke=\"#000000\" points=\"573.5001,-46.4132 570,-36.4133 566.5001,-46.4133 573.5001,-46.4132\"/>\n",
       "</g>\n",
       "<!-- +_*_*_*_x_gen_3_y_z_*_**_sin_**_x_gen_2_gen_2_gen_10#2 -->\n",
       "<g id=\"node3\" class=\"node\">\n",
       "<title>+_*_*_*_x_gen_3_y_z_*_**_sin_**_x_gen_2_gen_2_gen_10#2</title>\n",
       "<ellipse fill=\"none\" stroke=\"#000000\" cx=\"414\" cy=\"-162\" rx=\"244.0365\" ry=\"18\"/>\n",
       "<text text-anchor=\"middle\" x=\"414\" y=\"-157.8\" font-family=\"Times,serif\" font-size=\"14.00\" fill=\"#000000\">+_*_*_*_x_gen_3_y_z_*_**_sin_**_x_gen_2_gen_2_gen_10#2</text>\n",
       "</g>\n",
       "<!-- +_*_*_*_x_gen_3_y_z_*_**_sin_**_x_gen_2_gen_2_gen_10#2&#45;&gt;+_+_*_*_*_x_gen_3_y_z_*_**_sin_**_x_gen_2_gen_2_gen_10_tan_theta#1 -->\n",
       "<g id=\"edge16\" class=\"edge\">\n",
       "<title>+_*_*_*_x_gen_3_y_z_*_**_sin_**_x_gen_2_gen_2_gen_10#2&#45;&gt;+_+_*_*_*_x_gen_3_y_z_*_**_sin_**_x_gen_2_gen_2_gen_10_tan_theta#1</title>\n",
       "<path fill=\"none\" stroke=\"#000000\" d=\"M452.5618,-144.2022C473.5621,-134.5098 499.7381,-122.4285 522.0446,-112.1333\"/>\n",
       "<polygon fill=\"#000000\" stroke=\"#000000\" points=\"523.7283,-115.211 531.3411,-107.8425 520.7948,-108.8553 523.7283,-115.211\"/>\n",
       "</g>\n",
       "<!-- *_*_*_x_gen_3_y_z#3 -->\n",
       "<g id=\"node4\" class=\"node\">\n",
       "<title>*_*_*_x_gen_3_y_z#3</title>\n",
       "<ellipse fill=\"none\" stroke=\"#000000\" cx=\"199\" cy=\"-234\" rx=\"93.2533\" ry=\"18\"/>\n",
       "<text text-anchor=\"middle\" x=\"199\" y=\"-229.8\" font-family=\"Times,serif\" font-size=\"14.00\" fill=\"#000000\">*_*_*_x_gen_3_y_z#3</text>\n",
       "</g>\n",
       "<!-- *_*_*_x_gen_3_y_z#3&#45;&gt;+_*_*_*_x_gen_3_y_z_*_**_sin_**_x_gen_2_gen_2_gen_10#2 -->\n",
       "<g id=\"edge7\" class=\"edge\">\n",
       "<title>*_*_*_x_gen_3_y_z#3&#45;&gt;+_*_*_*_x_gen_3_y_z_*_**_sin_**_x_gen_2_gen_2_gen_10#2</title>\n",
       "<path fill=\"none\" stroke=\"#000000\" d=\"M245.6518,-218.3771C276.676,-207.9876 317.7819,-194.2219 351.6086,-182.8939\"/>\n",
       "<polygon fill=\"#000000\" stroke=\"#000000\" points=\"353.0255,-186.1105 361.3965,-179.6161 350.8026,-179.4728 353.0255,-186.1105\"/>\n",
       "</g>\n",
       "<!-- *_*_x_gen_3_y#4 -->\n",
       "<g id=\"node5\" class=\"node\">\n",
       "<title>*_*_x_gen_3_y#4</title>\n",
       "<ellipse fill=\"none\" stroke=\"#000000\" cx=\"109\" cy=\"-306\" rx=\"75.8725\" ry=\"18\"/>\n",
       "<text text-anchor=\"middle\" x=\"109\" y=\"-301.8\" font-family=\"Times,serif\" font-size=\"14.00\" fill=\"#000000\">*_*_x_gen_3_y#4</text>\n",
       "</g>\n",
       "<!-- *_*_x_gen_3_y#4&#45;&gt;*_*_*_x_gen_3_y_z#3 -->\n",
       "<g id=\"edge5\" class=\"edge\">\n",
       "<title>*_*_x_gen_3_y#4&#45;&gt;*_*_*_x_gen_3_y_z#3</title>\n",
       "<path fill=\"none\" stroke=\"#000000\" d=\"M130.7865,-288.5708C142.3088,-279.353 156.6271,-267.8983 169.1663,-257.8669\"/>\n",
       "<polygon fill=\"#000000\" stroke=\"#000000\" points=\"171.4799,-260.4983 177.1022,-251.5182 167.107,-255.0322 171.4799,-260.4983\"/>\n",
       "</g>\n",
       "<!-- *_x_gen_3#5 -->\n",
       "<g id=\"node6\" class=\"node\">\n",
       "<title>*_x_gen_3#5</title>\n",
       "<ellipse fill=\"none\" stroke=\"#000000\" cx=\"70\" cy=\"-378\" rx=\"58.4997\" ry=\"18\"/>\n",
       "<text text-anchor=\"middle\" x=\"70\" y=\"-373.8\" font-family=\"Times,serif\" font-size=\"14.00\" fill=\"#000000\">*_x_gen_3#5</text>\n",
       "</g>\n",
       "<!-- *_x_gen_3#5&#45;&gt;*_*_x_gen_3_y#4 -->\n",
       "<g id=\"edge3\" class=\"edge\">\n",
       "<title>*_x_gen_3#5&#45;&gt;*_*_x_gen_3_y#4</title>\n",
       "<path fill=\"none\" stroke=\"#000000\" d=\"M79.6405,-360.2022C84.0601,-352.0428 89.3969,-342.1904 94.3014,-333.1358\"/>\n",
       "<polygon fill=\"#000000\" stroke=\"#000000\" points=\"97.5142,-334.5531 99.1996,-324.0931 91.3592,-331.219 97.5142,-334.5531\"/>\n",
       "</g>\n",
       "<!-- x#6 -->\n",
       "<g id=\"node7\" class=\"node\">\n",
       "<title>x#6</title>\n",
       "<ellipse fill=\"none\" stroke=\"#000000\" cx=\"27\" cy=\"-450\" rx=\"27\" ry=\"18\"/>\n",
       "<text text-anchor=\"middle\" x=\"27\" y=\"-445.8\" font-family=\"Times,serif\" font-size=\"14.00\" fill=\"#000000\">x#6</text>\n",
       "</g>\n",
       "<!-- x#6&#45;&gt;*_x_gen_3#5 -->\n",
       "<g id=\"edge1\" class=\"edge\">\n",
       "<title>x#6&#45;&gt;*_x_gen_3#5</title>\n",
       "<path fill=\"none\" stroke=\"#000000\" d=\"M37.1904,-432.937C42.2343,-424.4914 48.4391,-414.1019 54.0902,-404.6396\"/>\n",
       "<polygon fill=\"#000000\" stroke=\"#000000\" points=\"57.1601,-406.3253 59.2827,-395.9453 51.1503,-402.7361 57.1601,-406.3253\"/>\n",
       "</g>\n",
       "<!-- gen_3#7 -->\n",
       "<g id=\"node8\" class=\"node\">\n",
       "<title>gen_3#7</title>\n",
       "<ellipse fill=\"none\" stroke=\"#000000\" cx=\"113\" cy=\"-450\" rx=\"40.6248\" ry=\"18\"/>\n",
       "<text text-anchor=\"middle\" x=\"113\" y=\"-445.8\" font-family=\"Times,serif\" font-size=\"14.00\" fill=\"#000000\">gen_3#7</text>\n",
       "</g>\n",
       "<!-- gen_3#7&#45;&gt;*_x_gen_3#5 -->\n",
       "<g id=\"edge2\" class=\"edge\">\n",
       "<title>gen_3#7&#45;&gt;*_x_gen_3#5</title>\n",
       "<path fill=\"none\" stroke=\"#000000\" d=\"M102.5909,-432.5708C97.5429,-424.1184 91.3717,-413.7851 85.7625,-404.3931\"/>\n",
       "<polygon fill=\"#000000\" stroke=\"#000000\" points=\"88.7443,-402.5597 80.612,-395.7689 82.7345,-406.1489 88.7443,-402.5597\"/>\n",
       "</g>\n",
       "<!-- y#6 -->\n",
       "<g id=\"node9\" class=\"node\">\n",
       "<title>y#6</title>\n",
       "<ellipse fill=\"none\" stroke=\"#000000\" cx=\"173\" cy=\"-378\" rx=\"27\" ry=\"18\"/>\n",
       "<text text-anchor=\"middle\" x=\"173\" y=\"-373.8\" font-family=\"Times,serif\" font-size=\"14.00\" fill=\"#000000\">y#6</text>\n",
       "</g>\n",
       "<!-- y#6&#45;&gt;*_*_x_gen_3_y#4 -->\n",
       "<g id=\"edge4\" class=\"edge\">\n",
       "<title>y#6&#45;&gt;*_*_x_gen_3_y#4</title>\n",
       "<path fill=\"none\" stroke=\"#000000\" d=\"M159.113,-362.3771C151.0273,-353.2807 140.6411,-341.5962 131.4229,-331.2257\"/>\n",
       "<polygon fill=\"#000000\" stroke=\"#000000\" points=\"133.9183,-328.7649 124.6587,-323.6161 128.6865,-333.4155 133.9183,-328.7649\"/>\n",
       "</g>\n",
       "<!-- z#5 -->\n",
       "<g id=\"node10\" class=\"node\">\n",
       "<title>z#5</title>\n",
       "<ellipse fill=\"none\" stroke=\"#000000\" cx=\"230\" cy=\"-306\" rx=\"27\" ry=\"18\"/>\n",
       "<text text-anchor=\"middle\" x=\"230\" y=\"-301.8\" font-family=\"Times,serif\" font-size=\"14.00\" fill=\"#000000\">z#5</text>\n",
       "</g>\n",
       "<!-- z#5&#45;&gt;*_*_*_x_gen_3_y_z#3 -->\n",
       "<g id=\"edge6\" class=\"edge\">\n",
       "<title>z#5&#45;&gt;*_*_*_x_gen_3_y_z#3</title>\n",
       "<path fill=\"none\" stroke=\"#000000\" d=\"M222.4958,-288.5708C218.9954,-280.4409 214.7458,-270.571 210.8283,-261.4722\"/>\n",
       "<polygon fill=\"#000000\" stroke=\"#000000\" points=\"213.9282,-259.8213 206.7589,-252.0206 207.4988,-262.5896 213.9282,-259.8213\"/>\n",
       "</g>\n",
       "<!-- *_**_sin_**_x_gen_2_gen_2_gen_10#4 -->\n",
       "<g id=\"node11\" class=\"node\">\n",
       "<title>*_**_sin_**_x_gen_2_gen_2_gen_10#4</title>\n",
       "<ellipse fill=\"none\" stroke=\"#000000\" cx=\"466\" cy=\"-234\" rx=\"156.0221\" ry=\"18\"/>\n",
       "<text text-anchor=\"middle\" x=\"466\" y=\"-229.8\" font-family=\"Times,serif\" font-size=\"14.00\" fill=\"#000000\">*_**_sin_**_x_gen_2_gen_2_gen_10#4</text>\n",
       "</g>\n",
       "<!-- *_**_sin_**_x_gen_2_gen_2_gen_10#4&#45;&gt;+_*_*_*_x_gen_3_y_z_*_**_sin_**_x_gen_2_gen_2_gen_10#2 -->\n",
       "<g id=\"edge15\" class=\"edge\">\n",
       "<title>*_**_sin_**_x_gen_2_gen_2_gen_10#4&#45;&gt;+_*_*_*_x_gen_3_y_z_*_**_sin_**_x_gen_2_gen_2_gen_10#2</title>\n",
       "<path fill=\"none\" stroke=\"#000000\" d=\"M452.8782,-215.8314C446.9501,-207.6232 439.8271,-197.7606 433.3067,-188.7323\"/>\n",
       "<polygon fill=\"#000000\" stroke=\"#000000\" points=\"435.9908,-186.4708 427.2985,-180.4133 430.316,-190.5693 435.9908,-186.4708\"/>\n",
       "</g>\n",
       "<!-- **_sin_**_x_gen_2_gen_2#5 -->\n",
       "<g id=\"node12\" class=\"node\">\n",
       "<title>**_sin_**_x_gen_2_gen_2#5</title>\n",
       "<ellipse fill=\"none\" stroke=\"#000000\" cx=\"435\" cy=\"-306\" rx=\"116.9245\" ry=\"18\"/>\n",
       "<text text-anchor=\"middle\" x=\"435\" y=\"-301.8\" font-family=\"Times,serif\" font-size=\"14.00\" fill=\"#000000\">**_sin_**_x_gen_2_gen_2#5</text>\n",
       "</g>\n",
       "<!-- **_sin_**_x_gen_2_gen_2#5&#45;&gt;*_**_sin_**_x_gen_2_gen_2_gen_10#4 -->\n",
       "<g id=\"edge13\" class=\"edge\">\n",
       "<title>**_sin_**_x_gen_2_gen_2#5&#45;&gt;*_**_sin_**_x_gen_2_gen_2_gen_10#4</title>\n",
       "<path fill=\"none\" stroke=\"#000000\" d=\"M442.8226,-287.8314C446.2109,-279.9617 450.2541,-270.5712 454.0076,-261.8533\"/>\n",
       "<polygon fill=\"#000000\" stroke=\"#000000\" points=\"457.3321,-262.9822 458.0721,-252.4133 450.9027,-260.214 457.3321,-262.9822\"/>\n",
       "</g>\n",
       "<!-- sin_**_x_gen_2#6 -->\n",
       "<g id=\"node13\" class=\"node\">\n",
       "<title>sin_**_x_gen_2#6</title>\n",
       "<ellipse fill=\"none\" stroke=\"#000000\" cx=\"343\" cy=\"-378\" rx=\"77.3261\" ry=\"18\"/>\n",
       "<text text-anchor=\"middle\" x=\"343\" y=\"-373.8\" font-family=\"Times,serif\" font-size=\"14.00\" fill=\"#000000\">sin_**_x_gen_2#6</text>\n",
       "</g>\n",
       "<!-- sin_**_x_gen_2#6&#45;&gt;**_sin_**_x_gen_2_gen_2#5 -->\n",
       "<g id=\"edge11\" class=\"edge\">\n",
       "<title>sin_**_x_gen_2#6&#45;&gt;**_sin_**_x_gen_2_gen_2#5</title>\n",
       "<path fill=\"none\" stroke=\"#000000\" d=\"M365.2706,-360.5708C376.9617,-351.4213 391.4688,-340.0679 404.2182,-330.0901\"/>\n",
       "<polygon fill=\"#000000\" stroke=\"#000000\" points=\"406.5773,-332.6883 412.2953,-323.7689 402.2632,-327.1757 406.5773,-332.6883\"/>\n",
       "</g>\n",
       "<!-- **_x_gen_2#7 -->\n",
       "<g id=\"node14\" class=\"node\">\n",
       "<title>**_x_gen_2#7</title>\n",
       "<ellipse fill=\"none\" stroke=\"#000000\" cx=\"343\" cy=\"-450\" rx=\"62.8425\" ry=\"18\"/>\n",
       "<text text-anchor=\"middle\" x=\"343\" y=\"-445.8\" font-family=\"Times,serif\" font-size=\"14.00\" fill=\"#000000\">**_x_gen_2#7</text>\n",
       "</g>\n",
       "<!-- **_x_gen_2#7&#45;&gt;sin_**_x_gen_2#6 -->\n",
       "<g id=\"edge10\" class=\"edge\">\n",
       "<title>**_x_gen_2#7&#45;&gt;sin_**_x_gen_2#6</title>\n",
       "<path fill=\"none\" stroke=\"#000000\" d=\"M343,-431.8314C343,-424.131 343,-414.9743 343,-406.4166\"/>\n",
       "<polygon fill=\"#000000\" stroke=\"#000000\" points=\"346.5001,-406.4132 343,-396.4133 339.5001,-406.4133 346.5001,-406.4132\"/>\n",
       "</g>\n",
       "<!-- x#8 -->\n",
       "<g id=\"node15\" class=\"node\">\n",
       "<title>x#8</title>\n",
       "<ellipse fill=\"none\" stroke=\"#000000\" cx=\"300\" cy=\"-522\" rx=\"27\" ry=\"18\"/>\n",
       "<text text-anchor=\"middle\" x=\"300\" y=\"-517.8\" font-family=\"Times,serif\" font-size=\"14.00\" fill=\"#000000\">x#8</text>\n",
       "</g>\n",
       "<!-- x#8&#45;&gt;**_x_gen_2#7 -->\n",
       "<g id=\"edge8\" class=\"edge\">\n",
       "<title>x#8&#45;&gt;**_x_gen_2#7</title>\n",
       "<path fill=\"none\" stroke=\"#000000\" d=\"M310.1904,-504.937C315.2343,-496.4914 321.4391,-486.1019 327.0902,-476.6396\"/>\n",
       "<polygon fill=\"#000000\" stroke=\"#000000\" points=\"330.1601,-478.3253 332.2827,-467.9453 324.1503,-474.7361 330.1601,-478.3253\"/>\n",
       "</g>\n",
       "<!-- gen_2#9 -->\n",
       "<g id=\"node16\" class=\"node\">\n",
       "<title>gen_2#9</title>\n",
       "<ellipse fill=\"none\" stroke=\"#000000\" cx=\"386\" cy=\"-522\" rx=\"40.6248\" ry=\"18\"/>\n",
       "<text text-anchor=\"middle\" x=\"386\" y=\"-517.8\" font-family=\"Times,serif\" font-size=\"14.00\" fill=\"#000000\">gen_2#9</text>\n",
       "</g>\n",
       "<!-- gen_2#9&#45;&gt;**_x_gen_2#7 -->\n",
       "<g id=\"edge9\" class=\"edge\">\n",
       "<title>gen_2#9&#45;&gt;**_x_gen_2#7</title>\n",
       "<path fill=\"none\" stroke=\"#000000\" d=\"M375.5909,-504.5708C370.5429,-496.1184 364.3717,-485.7851 358.7625,-476.3931\"/>\n",
       "<polygon fill=\"#000000\" stroke=\"#000000\" points=\"361.7443,-474.5597 353.612,-467.7689 355.7345,-478.1489 361.7443,-474.5597\"/>\n",
       "</g>\n",
       "<!-- gen_2#7 -->\n",
       "<g id=\"node17\" class=\"node\">\n",
       "<title>gen_2#7</title>\n",
       "<ellipse fill=\"none\" stroke=\"#000000\" cx=\"479\" cy=\"-378\" rx=\"40.6248\" ry=\"18\"/>\n",
       "<text text-anchor=\"middle\" x=\"479\" y=\"-373.8\" font-family=\"Times,serif\" font-size=\"14.00\" fill=\"#000000\">gen_2#7</text>\n",
       "</g>\n",
       "<!-- gen_2#7&#45;&gt;**_sin_**_x_gen_2_gen_2#5 -->\n",
       "<g id=\"edge12\" class=\"edge\">\n",
       "<title>gen_2#7&#45;&gt;**_sin_**_x_gen_2_gen_2#5</title>\n",
       "<path fill=\"none\" stroke=\"#000000\" d=\"M468.3488,-360.5708C463.222,-352.1815 456.9629,-341.9392 451.2577,-332.6035\"/>\n",
       "<polygon fill=\"#000000\" stroke=\"#000000\" points=\"454.2136,-330.7283 446.0126,-324.0206 448.2406,-334.3785 454.2136,-330.7283\"/>\n",
       "</g>\n",
       "<!-- gen_10#6 -->\n",
       "<g id=\"node18\" class=\"node\">\n",
       "<title>gen_10#6</title>\n",
       "<ellipse fill=\"none\" stroke=\"#000000\" cx=\"615\" cy=\"-306\" rx=\"44.9682\" ry=\"18\"/>\n",
       "<text text-anchor=\"middle\" x=\"615\" y=\"-301.8\" font-family=\"Times,serif\" font-size=\"14.00\" fill=\"#000000\">gen_10#6</text>\n",
       "</g>\n",
       "<!-- gen_10#6&#45;&gt;*_**_sin_**_x_gen_2_gen_2_gen_10#4 -->\n",
       "<g id=\"edge14\" class=\"edge\">\n",
       "<title>gen_10#6&#45;&gt;*_**_sin_**_x_gen_2_gen_2_gen_10#4</title>\n",
       "<path fill=\"none\" stroke=\"#000000\" d=\"M586.2713,-292.1177C565.0503,-281.8632 535.7396,-267.6997 511.3669,-255.9222\"/>\n",
       "<polygon fill=\"#000000\" stroke=\"#000000\" points=\"512.8214,-252.7379 502.2947,-251.5384 509.7757,-259.0407 512.8214,-252.7379\"/>\n",
       "</g>\n",
       "<!-- tan_theta#3 -->\n",
       "<g id=\"node19\" class=\"node\">\n",
       "<title>tan_theta#3</title>\n",
       "<ellipse fill=\"none\" stroke=\"#000000\" cx=\"727\" cy=\"-162\" rx=\"51.2242\" ry=\"18\"/>\n",
       "<text text-anchor=\"middle\" x=\"727\" y=\"-157.8\" font-family=\"Times,serif\" font-size=\"14.00\" fill=\"#000000\">tan_theta#3</text>\n",
       "</g>\n",
       "<!-- tan_theta#3&#45;&gt;+_+_*_*_*_x_gen_3_y_z_*_**_sin_**_x_gen_2_gen_2_gen_10_tan_theta#1 -->\n",
       "<g id=\"edge18\" class=\"edge\">\n",
       "<title>tan_theta#3&#45;&gt;+_+_*_*_*_x_gen_3_y_z_*_**_sin_**_x_gen_2_gen_2_gen_10_tan_theta#1</title>\n",
       "<path fill=\"none\" stroke=\"#000000\" d=\"M695.606,-147.6028C673.5472,-137.4866 643.6132,-123.7589 618.5006,-112.2423\"/>\n",
       "<polygon fill=\"#000000\" stroke=\"#000000\" points=\"619.6873,-108.9361 609.1385,-107.9489 616.7693,-115.2989 619.6873,-108.9361\"/>\n",
       "</g>\n",
       "<!-- theta#4 -->\n",
       "<g id=\"node20\" class=\"node\">\n",
       "<title>theta#4</title>\n",
       "<ellipse fill=\"none\" stroke=\"#000000\" cx=\"727\" cy=\"-234\" rx=\"36.2732\" ry=\"18\"/>\n",
       "<text text-anchor=\"middle\" x=\"727\" y=\"-229.8\" font-family=\"Times,serif\" font-size=\"14.00\" fill=\"#000000\">theta#4</text>\n",
       "</g>\n",
       "<!-- theta#4&#45;&gt;tan_theta#3 -->\n",
       "<g id=\"edge17\" class=\"edge\">\n",
       "<title>theta#4&#45;&gt;tan_theta#3</title>\n",
       "<path fill=\"none\" stroke=\"#000000\" d=\"M727,-215.8314C727,-208.131 727,-198.9743 727,-190.4166\"/>\n",
       "<polygon fill=\"#000000\" stroke=\"#000000\" points=\"730.5001,-190.4132 727,-180.4133 723.5001,-190.4133 730.5001,-190.4132\"/>\n",
       "</g>\n",
       "</g>\n",
       "</svg>\n"
      ],
      "text/plain": [
       "<graphviz.dot.Digraph at 0x1255e0080>"
      ]
     },
     "execution_count": 12,
     "metadata": {},
     "output_type": "execute_result"
    }
   ],
   "source": [
    "x.evaluate().graphviz()"
   ]
  },
  {
   "cell_type": "code",
   "execution_count": null,
   "metadata": {},
   "outputs": [],
   "source": []
  }
 ],
 "metadata": {
  "kernelspec": {
   "display_name": "Python 3",
   "language": "python",
   "name": "python3"
  },
  "language_info": {
   "codemirror_mode": {
    "name": "ipython",
    "version": 3
   },
   "file_extension": ".py",
   "mimetype": "text/x-python",
   "name": "python",
   "nbconvert_exporter": "python",
   "pygments_lexer": "ipython3",
   "version": "3.7.2"
  }
 },
 "nbformat": 4,
 "nbformat_minor": 2
}
